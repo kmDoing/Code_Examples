{
 "cells": [
  {
   "cell_type": "markdown",
   "id": "9b333ef4-7a07-4511-b6e2-e7fc13778494",
   "metadata": {},
   "source": [
    "This notebook contains script elements to pracice using pandas.\n",
    "The first section is from: https://pandas.pydata.org/docs/user_guide/10min.html\n",
    "and https://pandas.pydata.org/docs/user_guide/io.html"
   ]
  },
  {
   "cell_type": "code",
   "execution_count": 3,
   "id": "a6ccf428-07f2-4382-91fd-4e171d2b8e05",
   "metadata": {},
   "outputs": [],
   "source": [
    "import numpy as np\n",
    "import pandas as pd"
   ]
  },
  {
   "cell_type": "markdown",
   "id": "81585648-b417-4482-b195-15b79b6de7ca",
   "metadata": {},
   "source": [
    "# The first reason that I find pandas unintuitive\n",
    "\n",
    "When you read in a file, if you do not specify an index, you get records indexed by entry number.\n",
    "It is the fact that this happens silently that cuases me problems.\n",
    "\n",
    "You can see the difference with cnn_dm_df and cnn_dm_noi_df. noi means no index was included and the numbers on the left are being used in the dataframe as the index, not the id column.\n",
    "\n",
    "I also find it unintuitive that the datatype of the index is not included in the dtypes list."
   ]
  },
  {
   "cell_type": "code",
   "execution_count": 10,
   "id": "79ef215e-adee-4acc-9f06-27de1ec55001",
   "metadata": {},
   "outputs": [
    {
     "name": "stdout",
     "output_type": "stream",
     "text": [
      "                                                                                    article  \\\n",
      "id                                                                                            \n",
      "0001d1afc246a7964130f43ae940af6bc6c57f01  By . Associated Press . PUBLISHED: . 14:11 EST...   \n",
      "0002095e55fcbd3a2f366d9bf92a95433dc305ef  (CNN) -- Ralph Mata was an internal affairs li...   \n",
      "\n",
      "                                                                                 highlights  \n",
      "id                                                                                           \n",
      "0001d1afc246a7964130f43ae940af6bc6c57f01  Bishop John Folda, of North Dakota, is taking ...  \n",
      "0002095e55fcbd3a2f366d9bf92a95433dc305ef  Criminal complaint: Cop used his role to help ...  \n",
      "                                         id  \\\n",
      "0  0001d1afc246a7964130f43ae940af6bc6c57f01   \n",
      "1  0002095e55fcbd3a2f366d9bf92a95433dc305ef   \n",
      "\n",
      "                                             article  \\\n",
      "0  By . Associated Press . PUBLISHED: . 14:11 EST...   \n",
      "1  (CNN) -- Ralph Mata was an internal affairs li...   \n",
      "\n",
      "                                          highlights  \n",
      "0  Bishop John Folda, of North Dakota, is taking ...  \n",
      "1  Criminal complaint: Cop used his role to help ...  \n"
     ]
    }
   ],
   "source": [
    "data_file = \"/home/kristina/Documents/data/cnn_dailymail/train.csv\"\n",
    "\n",
    "cnn_dm_df = pd.read_csv(data_file, index_col='id')\n",
    "cnn_dm_noi_df = pd.read_csv(data_file)\n",
    "print(cnn_dm_df.head(2))\n",
    "print(cnn_dm_noi_df.head(2))"
   ]
  },
  {
   "cell_type": "code",
   "execution_count": 14,
   "id": "8cf6bd33-7249-4f4d-bc0f-dc6e3246caa2",
   "metadata": {},
   "outputs": [
    {
     "name": "stdout",
     "output_type": "stream",
     "text": [
      "with index\n",
      "article       object\n",
      "highlights    object\n",
      "dtype: object\n",
      "\n",
      "without index\n",
      "id            object\n",
      "article       object\n",
      "highlights    object\n",
      "dtype: object\n"
     ]
    }
   ],
   "source": [
    "print(\"with index\")\n",
    "print(cnn_dm_df.dtypes)\n",
    "print(\"\\nwithout index\")\n",
    "print(cnn_dm_noi_df.dtypes)"
   ]
  },
  {
   "cell_type": "code",
   "execution_count": 16,
   "id": "3df1654f-2ab1-45d6-a939-8bb350fd1de2",
   "metadata": {},
   "outputs": [
    {
     "name": "stdout",
     "output_type": "stream",
     "text": [
      "Index(['0001d1afc246a7964130f43ae940af6bc6c57f01',\n",
      "       '0002095e55fcbd3a2f366d9bf92a95433dc305ef',\n",
      "       '00027e965c8264c35cc1bc55556db388da82b07f',\n",
      "       '0002c17436637c4fe1837c935c04de47adb18e9a',\n",
      "       '0003ad6ef0c37534f80b55b4235108024b407f0b',\n",
      "       '0004306354494f090ee2d7bc5ddbf80b63e80de6',\n",
      "       '0005d61497d21ff37a17751829bd7e3b6e4a7c5c',\n",
      "       '0006021f772fad0aa78a977ce4a31b3faa6e6fe5',\n",
      "       '00083697263e215e5e7eda753070f08aa374dd45',\n",
      "       '000940f2bb357ac04a236a232156d8b9b18d1667',\n",
      "       ...\n",
      "       'fffcb37fb11b1055eea4d6fc69ae0c44b499aa6d',\n",
      "       'fffcc9bc0d9aa65680ebad70d698eaa8d091d148',\n",
      "       'fffd2fe47548b7f2b5621765190a74c2a25798b7',\n",
      "       'fffd571b1b78d9156c4fcf8d7b8b6bd0cc17175b',\n",
      "       'fffd5be9aaf3ccca69dd6c9fa4cb5167f859e8c4',\n",
      "       'fffdfb56fdf1a12d364562cc2b9b1d4de7481dee',\n",
      "       'fffeecb8690b85de8c3faed80adbc7a978f9ae2a',\n",
      "       'ffff5231e4c71544bc6c97015cdb16c60e42b3f4',\n",
      "       'ffff924b14a8d82058b6c1c5368ff1113c1632af',\n",
      "       'ffffd563a96104f5cf4493cfa701a65f31b06abf'],\n",
      "      dtype='object', name='id', length=287113)\n",
      "\n",
      "\n",
      "without index\n",
      "RangeIndex(start=0, stop=287113, step=1)\n"
     ]
    }
   ],
   "source": [
    "print(cnn_dm_df.index)\n",
    "print(\"\\n\\nwithout index\")\n",
    "print(cnn_dm_noi_df.index)"
   ]
  },
  {
   "cell_type": "code",
   "execution_count": 17,
   "id": "f39d93f6-54b5-456a-8093-a7658d82174d",
   "metadata": {},
   "outputs": [
    {
     "data": {
      "text/plain": [
       "Index(['article', 'highlights'], dtype='object')"
      ]
     },
     "execution_count": 17,
     "metadata": {},
     "output_type": "execute_result"
    }
   ],
   "source": [
    "cnn_dm_df.columns"
   ]
  },
  {
   "cell_type": "code",
   "execution_count": 18,
   "id": "8de53303-8b79-4fc3-b522-afa856dab530",
   "metadata": {},
   "outputs": [
    {
     "name": "stdout",
     "output_type": "stream",
     "text": [
      "                   A         B         C         D\n",
      "2013-01-01 -0.234584 -0.392964 -0.643740 -0.282849\n",
      "2013-01-02  0.232813  2.559585  1.486971 -0.695225\n",
      "2013-01-03 -0.168154 -0.399133  0.360266  1.543201\n",
      "2013-01-04 -0.344135  2.220075  0.683452 -0.034712\n",
      "2013-01-05  0.259575 -1.723946  0.573186  1.301449\n",
      "DatetimeIndex(['2013-01-01', '2013-01-02', '2013-01-03', '2013-01-04',\n",
      "               '2013-01-05', '2013-01-06'],\n",
      "              dtype='datetime64[ns]', freq='D')\n"
     ]
    }
   ],
   "source": [
    "dates = pd.date_range(\"20130101\", periods=6)\n",
    "dates_df = pd.DataFrame(np.random.randn(6, 4), index=dates, columns=list(\"ABCD\"))\n",
    "print(dates_df.head())\n",
    "print(dates_df.index)"
   ]
  },
  {
   "cell_type": "markdown",
   "id": "219d4ca2-4026-4692-b1bd-8b259233c60e",
   "metadata": {},
   "source": [
    "Note that since an index is declared there are no numbers on the left.\n",
    "If I wanted the default index of entry number, I would need to make a column for the dates."
   ]
  },
  {
   "cell_type": "code",
   "execution_count": 19,
   "id": "1a6a5db4-f46b-41ab-868e-116cdaedef9d",
   "metadata": {},
   "outputs": [
    {
     "name": "stdout",
     "output_type": "stream",
     "text": [
      "          A         B         C         D\n",
      "0 -1.888819 -1.077421 -0.454837 -0.601356\n",
      "1  0.257038 -0.746521  1.352918 -0.544639\n",
      "2 -0.382972  1.097669  0.201919 -0.980249\n",
      "3 -0.066209  0.344707  2.619418  0.304870\n",
      "4  0.517293  2.151400 -0.246931 -0.549164\n",
      "RangeIndex(start=0, stop=6, step=1)\n"
     ]
    }
   ],
   "source": [
    "nums_df = pd.DataFrame(np.random.randn(6, 4), columns=list(\"ABCD\"))\n",
    "print(nums_df.head())\n",
    "print(nums_df.index)"
   ]
  },
  {
   "cell_type": "code",
   "execution_count": 20,
   "id": "1db803ea-b2a7-42d5-9ebc-f9d9e6471f26",
   "metadata": {},
   "outputs": [
    {
     "name": "stdout",
     "output_type": "stream",
     "text": [
      "        date         A         B         C         D\n",
      "0 2013-01-01 -1.888819 -1.077421 -0.454837 -0.601356\n",
      "1 2013-01-02  0.257038 -0.746521  1.352918 -0.544639\n",
      "2 2013-01-03 -0.382972  1.097669  0.201919 -0.980249\n",
      "3 2013-01-04 -0.066209  0.344707  2.619418  0.304870\n",
      "4 2013-01-05  0.517293  2.151400 -0.246931 -0.549164\n",
      "RangeIndex(start=0, stop=6, step=1)\n"
     ]
    }
   ],
   "source": [
    "nums_df.insert(0, 'date', dates)\n",
    "print(nums_df.head())\n",
    "print(nums_df.index)"
   ]
  },
  {
   "cell_type": "code",
   "execution_count": 21,
   "id": "5927ea54-294a-46ac-aee9-88b53018c707",
   "metadata": {},
   "outputs": [
    {
     "name": "stdout",
     "output_type": "stream",
     "text": [
      "              A         B         C         D\n",
      "count  6.000000  6.000000  6.000000  6.000000\n",
      "mean  -0.195670  0.385214  0.665566  0.154921\n",
      "std    0.433390  1.666005  0.805474  1.030533\n",
      "min   -0.919533 -1.723946 -0.643740 -0.902336\n",
      "25%   -0.316748 -0.397590  0.413496 -0.592131\n",
      "50%   -0.201369 -0.172650  0.628319 -0.158781\n",
      "75%    0.132571  1.676973  1.286091  0.967409\n",
      "max    0.259575  2.559585  1.533262  1.543201\n",
      "                      date         A         B         C         D\n",
      "count                    6  6.000000  6.000000  6.000000  6.000000\n",
      "mean   2013-01-03 12:00:00 -0.421390  0.254363  0.469644 -0.406593\n",
      "min    2013-01-01 00:00:00 -1.888819 -1.077421 -0.654623 -0.980249\n",
      "25%    2013-01-02 06:00:00 -0.819246 -0.620806 -0.402860 -0.588308\n",
      "50%    2013-01-03 12:00:00 -0.224590  0.050524 -0.022506 -0.546902\n",
      "75%    2013-01-04 18:00:00  0.176226  0.909428  1.065168 -0.187924\n",
      "max    2013-01-06 00:00:00  0.517293  2.151400  2.619418  0.304870\n",
      "std                    NaN  0.885158  1.211736  1.273224  0.453108\n"
     ]
    }
   ],
   "source": [
    "print(dates_df.describe())\n",
    "print(nums_df.describe())"
   ]
  },
  {
   "cell_type": "markdown",
   "id": "03a314b9-1375-41c4-a8f9-c509958e8d79",
   "metadata": {},
   "source": [
    "Sorting with the index requires defining an axis.\n",
    "Axis 0 means the rows and Axis 1 means the columns"
   ]
  },
  {
   "cell_type": "code",
   "execution_count": 22,
   "id": "9e005efd-865c-4939-8f93-36625745fb71",
   "metadata": {},
   "outputs": [
    {
     "data": {
      "text/html": [
       "<div>\n",
       "<style scoped>\n",
       "    .dataframe tbody tr th:only-of-type {\n",
       "        vertical-align: middle;\n",
       "    }\n",
       "\n",
       "    .dataframe tbody tr th {\n",
       "        vertical-align: top;\n",
       "    }\n",
       "\n",
       "    .dataframe thead th {\n",
       "        text-align: right;\n",
       "    }\n",
       "</style>\n",
       "<table border=\"1\" class=\"dataframe\">\n",
       "  <thead>\n",
       "    <tr style=\"text-align: right;\">\n",
       "      <th></th>\n",
       "      <th>A</th>\n",
       "      <th>B</th>\n",
       "      <th>C</th>\n",
       "      <th>D</th>\n",
       "    </tr>\n",
       "  </thead>\n",
       "  <tbody>\n",
       "    <tr>\n",
       "      <th>2013-01-01</th>\n",
       "      <td>-0.234584</td>\n",
       "      <td>-0.392964</td>\n",
       "      <td>-0.643740</td>\n",
       "      <td>-0.282849</td>\n",
       "    </tr>\n",
       "    <tr>\n",
       "      <th>2013-01-02</th>\n",
       "      <td>0.232813</td>\n",
       "      <td>2.559585</td>\n",
       "      <td>1.486971</td>\n",
       "      <td>-0.695225</td>\n",
       "    </tr>\n",
       "    <tr>\n",
       "      <th>2013-01-03</th>\n",
       "      <td>-0.168154</td>\n",
       "      <td>-0.399133</td>\n",
       "      <td>0.360266</td>\n",
       "      <td>1.543201</td>\n",
       "    </tr>\n",
       "    <tr>\n",
       "      <th>2013-01-04</th>\n",
       "      <td>-0.344135</td>\n",
       "      <td>2.220075</td>\n",
       "      <td>0.683452</td>\n",
       "      <td>-0.034712</td>\n",
       "    </tr>\n",
       "    <tr>\n",
       "      <th>2013-01-05</th>\n",
       "      <td>0.259575</td>\n",
       "      <td>-1.723946</td>\n",
       "      <td>0.573186</td>\n",
       "      <td>1.301449</td>\n",
       "    </tr>\n",
       "    <tr>\n",
       "      <th>2013-01-06</th>\n",
       "      <td>-0.919533</td>\n",
       "      <td>0.047664</td>\n",
       "      <td>1.533262</td>\n",
       "      <td>-0.902336</td>\n",
       "    </tr>\n",
       "  </tbody>\n",
       "</table>\n",
       "</div>"
      ],
      "text/plain": [
       "                   A         B         C         D\n",
       "2013-01-01 -0.234584 -0.392964 -0.643740 -0.282849\n",
       "2013-01-02  0.232813  2.559585  1.486971 -0.695225\n",
       "2013-01-03 -0.168154 -0.399133  0.360266  1.543201\n",
       "2013-01-04 -0.344135  2.220075  0.683452 -0.034712\n",
       "2013-01-05  0.259575 -1.723946  0.573186  1.301449\n",
       "2013-01-06 -0.919533  0.047664  1.533262 -0.902336"
      ]
     },
     "execution_count": 22,
     "metadata": {},
     "output_type": "execute_result"
    }
   ],
   "source": [
    "# reminder\n",
    "dates_df"
   ]
  },
  {
   "cell_type": "code",
   "execution_count": 23,
   "id": "438032c6-a26c-40ab-a4ad-4de7f3bd34ab",
   "metadata": {},
   "outputs": [
    {
     "data": {
      "text/html": [
       "<div>\n",
       "<style scoped>\n",
       "    .dataframe tbody tr th:only-of-type {\n",
       "        vertical-align: middle;\n",
       "    }\n",
       "\n",
       "    .dataframe tbody tr th {\n",
       "        vertical-align: top;\n",
       "    }\n",
       "\n",
       "    .dataframe thead th {\n",
       "        text-align: right;\n",
       "    }\n",
       "</style>\n",
       "<table border=\"1\" class=\"dataframe\">\n",
       "  <thead>\n",
       "    <tr style=\"text-align: right;\">\n",
       "      <th></th>\n",
       "      <th>D</th>\n",
       "      <th>C</th>\n",
       "      <th>B</th>\n",
       "      <th>A</th>\n",
       "    </tr>\n",
       "  </thead>\n",
       "  <tbody>\n",
       "    <tr>\n",
       "      <th>2013-01-01</th>\n",
       "      <td>-0.282849</td>\n",
       "      <td>-0.643740</td>\n",
       "      <td>-0.392964</td>\n",
       "      <td>-0.234584</td>\n",
       "    </tr>\n",
       "    <tr>\n",
       "      <th>2013-01-02</th>\n",
       "      <td>-0.695225</td>\n",
       "      <td>1.486971</td>\n",
       "      <td>2.559585</td>\n",
       "      <td>0.232813</td>\n",
       "    </tr>\n",
       "    <tr>\n",
       "      <th>2013-01-03</th>\n",
       "      <td>1.543201</td>\n",
       "      <td>0.360266</td>\n",
       "      <td>-0.399133</td>\n",
       "      <td>-0.168154</td>\n",
       "    </tr>\n",
       "    <tr>\n",
       "      <th>2013-01-04</th>\n",
       "      <td>-0.034712</td>\n",
       "      <td>0.683452</td>\n",
       "      <td>2.220075</td>\n",
       "      <td>-0.344135</td>\n",
       "    </tr>\n",
       "    <tr>\n",
       "      <th>2013-01-05</th>\n",
       "      <td>1.301449</td>\n",
       "      <td>0.573186</td>\n",
       "      <td>-1.723946</td>\n",
       "      <td>0.259575</td>\n",
       "    </tr>\n",
       "    <tr>\n",
       "      <th>2013-01-06</th>\n",
       "      <td>-0.902336</td>\n",
       "      <td>1.533262</td>\n",
       "      <td>0.047664</td>\n",
       "      <td>-0.919533</td>\n",
       "    </tr>\n",
       "  </tbody>\n",
       "</table>\n",
       "</div>"
      ],
      "text/plain": [
       "                   D         C         B         A\n",
       "2013-01-01 -0.282849 -0.643740 -0.392964 -0.234584\n",
       "2013-01-02 -0.695225  1.486971  2.559585  0.232813\n",
       "2013-01-03  1.543201  0.360266 -0.399133 -0.168154\n",
       "2013-01-04 -0.034712  0.683452  2.220075 -0.344135\n",
       "2013-01-05  1.301449  0.573186 -1.723946  0.259575\n",
       "2013-01-06 -0.902336  1.533262  0.047664 -0.919533"
      ]
     },
     "execution_count": 23,
     "metadata": {},
     "output_type": "execute_result"
    }
   ],
   "source": [
    "# Sorting by column names (indices)\n",
    "dates_df.sort_index(axis=1, ascending=False)"
   ]
  },
  {
   "cell_type": "code",
   "execution_count": 24,
   "id": "5008690a-4caf-40ad-9fbf-22848d4ff7f3",
   "metadata": {},
   "outputs": [
    {
     "data": {
      "text/html": [
       "<div>\n",
       "<style scoped>\n",
       "    .dataframe tbody tr th:only-of-type {\n",
       "        vertical-align: middle;\n",
       "    }\n",
       "\n",
       "    .dataframe tbody tr th {\n",
       "        vertical-align: top;\n",
       "    }\n",
       "\n",
       "    .dataframe thead th {\n",
       "        text-align: right;\n",
       "    }\n",
       "</style>\n",
       "<table border=\"1\" class=\"dataframe\">\n",
       "  <thead>\n",
       "    <tr style=\"text-align: right;\">\n",
       "      <th></th>\n",
       "      <th>A</th>\n",
       "      <th>B</th>\n",
       "      <th>C</th>\n",
       "      <th>D</th>\n",
       "    </tr>\n",
       "  </thead>\n",
       "  <tbody>\n",
       "    <tr>\n",
       "      <th>2013-01-06</th>\n",
       "      <td>-0.919533</td>\n",
       "      <td>0.047664</td>\n",
       "      <td>1.533262</td>\n",
       "      <td>-0.902336</td>\n",
       "    </tr>\n",
       "    <tr>\n",
       "      <th>2013-01-05</th>\n",
       "      <td>0.259575</td>\n",
       "      <td>-1.723946</td>\n",
       "      <td>0.573186</td>\n",
       "      <td>1.301449</td>\n",
       "    </tr>\n",
       "    <tr>\n",
       "      <th>2013-01-04</th>\n",
       "      <td>-0.344135</td>\n",
       "      <td>2.220075</td>\n",
       "      <td>0.683452</td>\n",
       "      <td>-0.034712</td>\n",
       "    </tr>\n",
       "    <tr>\n",
       "      <th>2013-01-03</th>\n",
       "      <td>-0.168154</td>\n",
       "      <td>-0.399133</td>\n",
       "      <td>0.360266</td>\n",
       "      <td>1.543201</td>\n",
       "    </tr>\n",
       "    <tr>\n",
       "      <th>2013-01-02</th>\n",
       "      <td>0.232813</td>\n",
       "      <td>2.559585</td>\n",
       "      <td>1.486971</td>\n",
       "      <td>-0.695225</td>\n",
       "    </tr>\n",
       "    <tr>\n",
       "      <th>2013-01-01</th>\n",
       "      <td>-0.234584</td>\n",
       "      <td>-0.392964</td>\n",
       "      <td>-0.643740</td>\n",
       "      <td>-0.282849</td>\n",
       "    </tr>\n",
       "  </tbody>\n",
       "</table>\n",
       "</div>"
      ],
      "text/plain": [
       "                   A         B         C         D\n",
       "2013-01-06 -0.919533  0.047664  1.533262 -0.902336\n",
       "2013-01-05  0.259575 -1.723946  0.573186  1.301449\n",
       "2013-01-04 -0.344135  2.220075  0.683452 -0.034712\n",
       "2013-01-03 -0.168154 -0.399133  0.360266  1.543201\n",
       "2013-01-02  0.232813  2.559585  1.486971 -0.695225\n",
       "2013-01-01 -0.234584 -0.392964 -0.643740 -0.282849"
      ]
     },
     "execution_count": 24,
     "metadata": {},
     "output_type": "execute_result"
    }
   ],
   "source": [
    "# Sorting by the row indices\n",
    "dates_df.sort_index(axis=0, ascending=False)"
   ]
  },
  {
   "cell_type": "code",
   "execution_count": 25,
   "id": "fc3651d8-c34b-42d5-8bde-e68f6f180f8a",
   "metadata": {},
   "outputs": [
    {
     "data": {
      "text/html": [
       "<div>\n",
       "<style scoped>\n",
       "    .dataframe tbody tr th:only-of-type {\n",
       "        vertical-align: middle;\n",
       "    }\n",
       "\n",
       "    .dataframe tbody tr th {\n",
       "        vertical-align: top;\n",
       "    }\n",
       "\n",
       "    .dataframe thead th {\n",
       "        text-align: right;\n",
       "    }\n",
       "</style>\n",
       "<table border=\"1\" class=\"dataframe\">\n",
       "  <thead>\n",
       "    <tr style=\"text-align: right;\">\n",
       "      <th></th>\n",
       "      <th>date</th>\n",
       "      <th>A</th>\n",
       "      <th>B</th>\n",
       "      <th>C</th>\n",
       "      <th>D</th>\n",
       "    </tr>\n",
       "  </thead>\n",
       "  <tbody>\n",
       "    <tr>\n",
       "      <th>5</th>\n",
       "      <td>2013-01-06</td>\n",
       "      <td>-0.964671</td>\n",
       "      <td>-0.243659</td>\n",
       "      <td>-0.654623</td>\n",
       "      <td>-0.069019</td>\n",
       "    </tr>\n",
       "    <tr>\n",
       "      <th>4</th>\n",
       "      <td>2013-01-05</td>\n",
       "      <td>0.517293</td>\n",
       "      <td>2.151400</td>\n",
       "      <td>-0.246931</td>\n",
       "      <td>-0.549164</td>\n",
       "    </tr>\n",
       "    <tr>\n",
       "      <th>3</th>\n",
       "      <td>2013-01-04</td>\n",
       "      <td>-0.066209</td>\n",
       "      <td>0.344707</td>\n",
       "      <td>2.619418</td>\n",
       "      <td>0.304870</td>\n",
       "    </tr>\n",
       "    <tr>\n",
       "      <th>2</th>\n",
       "      <td>2013-01-03</td>\n",
       "      <td>-0.382972</td>\n",
       "      <td>1.097669</td>\n",
       "      <td>0.201919</td>\n",
       "      <td>-0.980249</td>\n",
       "    </tr>\n",
       "    <tr>\n",
       "      <th>1</th>\n",
       "      <td>2013-01-02</td>\n",
       "      <td>0.257038</td>\n",
       "      <td>-0.746521</td>\n",
       "      <td>1.352918</td>\n",
       "      <td>-0.544639</td>\n",
       "    </tr>\n",
       "    <tr>\n",
       "      <th>0</th>\n",
       "      <td>2013-01-01</td>\n",
       "      <td>-1.888819</td>\n",
       "      <td>-1.077421</td>\n",
       "      <td>-0.454837</td>\n",
       "      <td>-0.601356</td>\n",
       "    </tr>\n",
       "  </tbody>\n",
       "</table>\n",
       "</div>"
      ],
      "text/plain": [
       "        date         A         B         C         D\n",
       "5 2013-01-06 -0.964671 -0.243659 -0.654623 -0.069019\n",
       "4 2013-01-05  0.517293  2.151400 -0.246931 -0.549164\n",
       "3 2013-01-04 -0.066209  0.344707  2.619418  0.304870\n",
       "2 2013-01-03 -0.382972  1.097669  0.201919 -0.980249\n",
       "1 2013-01-02  0.257038 -0.746521  1.352918 -0.544639\n",
       "0 2013-01-01 -1.888819 -1.077421 -0.454837 -0.601356"
      ]
     },
     "execution_count": 25,
     "metadata": {},
     "output_type": "execute_result"
    }
   ],
   "source": [
    "# Can also sort by value\n",
    "nums_df.sort_values(by='date', ascending=False)"
   ]
  },
  {
   "cell_type": "markdown",
   "id": "e31f06b7-07bf-47a1-9c5b-c9fc66b02590",
   "metadata": {},
   "source": [
    "Can select a column by name and get a series.\n",
    "Note that the index is included in the series.\n",
    "Same with a slice.\n",
    "Note: the entry numbers are an implicit index into the dataframe, so dates_df[0:3] is fine\n",
    "while nums_df[\"20130102\":\"20130104\"] throws an exception because the index is not dates."
   ]
  },
  {
   "cell_type": "code",
   "execution_count": 26,
   "id": "9f10b3df-c0d3-4e2b-8efe-87fd4a9c5951",
   "metadata": {},
   "outputs": [
    {
     "name": "stdout",
     "output_type": "stream",
     "text": [
      "2013-01-01   -0.643740\n",
      "2013-01-02    1.486971\n",
      "2013-01-03    0.360266\n",
      "2013-01-04    0.683452\n",
      "2013-01-05    0.573186\n",
      "2013-01-06    1.533262\n",
      "Freq: D, Name: C, dtype: float64\n",
      "0   -0.454837\n",
      "1    1.352918\n",
      "2    0.201919\n",
      "3    2.619418\n",
      "4   -0.246931\n",
      "5   -0.654623\n",
      "Name: C, dtype: float64\n"
     ]
    }
   ],
   "source": [
    "print(dates_df['C'])\n",
    "print(nums_df['C'])"
   ]
  },
  {
   "cell_type": "code",
   "execution_count": 27,
   "id": "7e0308f7-fc39-4a09-a621-c097b3cc3f8a",
   "metadata": {},
   "outputs": [
    {
     "name": "stdout",
     "output_type": "stream",
     "text": [
      "                   A         B         C         D\n",
      "2013-01-01 -0.234584 -0.392964 -0.643740 -0.282849\n",
      "2013-01-02  0.232813  2.559585  1.486971 -0.695225\n",
      "2013-01-03 -0.168154 -0.399133  0.360266  1.543201\n",
      "        date         A         B         C         D\n",
      "0 2013-01-01 -1.888819 -1.077421 -0.454837 -0.601356\n",
      "1 2013-01-02  0.257038 -0.746521  1.352918 -0.544639\n",
      "2 2013-01-03 -0.382972  1.097669  0.201919 -0.980249\n",
      "                   A         B         C         D\n",
      "2013-01-02  0.232813  2.559585  1.486971 -0.695225\n",
      "2013-01-03 -0.168154 -0.399133  0.360266  1.543201\n",
      "2013-01-04 -0.344135  2.220075  0.683452 -0.034712\n"
     ]
    }
   ],
   "source": [
    "print(dates_df[0:3])\n",
    "print(nums_df[0:3])\n",
    "print(dates_df[\"20130102\":\"20130104\"])\n",
    "# This next line throws an exception because the dates are not the index\n",
    "#print(nums_df[\"20130102\":\"20130104\"])"
   ]
  },
  {
   "cell_type": "markdown",
   "id": "52c11e6d-49cc-4794-aa7b-3bcc429154c6",
   "metadata": {},
   "source": [
    "Selection by label is where everything gets weird if you are used to using dictionaries.\n",
    "In pandas, you want to use df.loc or df.at, not the coordinates."
   ]
  },
  {
   "cell_type": "code",
   "execution_count": 28,
   "id": "a95bb177-0957-44f2-93b6-52a7cabdba28",
   "metadata": {},
   "outputs": [
    {
     "data": {
      "text/plain": [
       "A   -0.234584\n",
       "B   -0.392964\n",
       "C   -0.643740\n",
       "D   -0.282849\n",
       "Name: 2013-01-01 00:00:00, dtype: float64"
      ]
     },
     "execution_count": 28,
     "metadata": {},
     "output_type": "execute_result"
    }
   ],
   "source": [
    "dates_df.loc[dates[0]]"
   ]
  },
  {
   "cell_type": "code",
   "execution_count": null,
   "id": "f3f0779b-bf8a-4cd1-b279-8efa48c60fdb",
   "metadata": {},
   "outputs": [],
   "source": [
    "#dates_df[dates[0]]\n",
    "# Throws an exception"
   ]
  },
  {
   "cell_type": "markdown",
   "id": "f0958908-65f6-40de-96be-636d007c82bc",
   "metadata": {},
   "source": [
    "# Imagined Pandas issue turned out to be untrue: data types can have unclear Python correlates\n",
    "\n",
    "In the following cell, I remind you how the dates for the index were created.\n",
    "I then try a bunch of ways to access a single element.\n",
    "Timestamp will come later when I turn the dataframe into a dictionary in the next section.\n",
    "Note: I originally thought this was a fail because I didn't put in .loc"
   ]
  },
  {
   "cell_type": "code",
   "execution_count": 35,
   "id": "29a41b41-6853-4f5e-a6b2-c74a25130154",
   "metadata": {},
   "outputs": [],
   "source": [
    "from datetime import datetime"
   ]
  },
  {
   "cell_type": "code",
   "execution_count": 36,
   "id": "92a91194-4f69-4f57-bfaa-9dbf33cfe195",
   "metadata": {},
   "outputs": [
    {
     "name": "stdout",
     "output_type": "stream",
     "text": [
      "-1.7239462864103288\n",
      "-1.7239462864103288\n",
      "-1.7239462864103288\n"
     ]
    }
   ],
   "source": [
    "# reminder dates = pd.date_range(\"20130101\", periods=6)\n",
    "\n",
    "print(dates_df.loc['20130105','B'])\n",
    "print(dates_df.loc['2013-01-05','B'])\n",
    "#print(dates_df.loc[Timestamp('20130105'),'B'])  # exception Timestamp not defined\n",
    "print(dates_df.loc[datetime.fromisoformat('2013-01-05'),'B'])"
   ]
  },
  {
   "cell_type": "markdown",
   "id": "26119afd-1ff5-4656-bcbb-c74384c332a1",
   "metadata": {},
   "source": [
    "# Pandas dataframe to a useful Python dictionary\n",
    "\n",
    "Be super careful using to_dict with a data frame. What happens in the next cell is definitely not what is expected!\n",
    "The cell after is better with orient='records', but now the index is gone!\n",
    "The cell after is what we want orient='index'"
   ]
  },
  {
   "cell_type": "code",
   "execution_count": 37,
   "id": "df9fc042-646b-4b47-b1f8-0f5eaad5e609",
   "metadata": {},
   "outputs": [
    {
     "name": "stdout",
     "output_type": "stream",
     "text": [
      "{'A': {Timestamp('2013-01-01 00:00:00'): -0.23458410530329493, Timestamp('2013-01-02 00:00:00'): 0.23281308851106416, Timestamp('2013-01-03 00:00:00'): -0.16815357791658225, Timestamp('2013-01-04 00:00:00'): -0.34413541462962893, Timestamp('2013-01-05 00:00:00'): 0.2595748323900056, Timestamp('2013-01-06 00:00:00'): -0.9195326046535839}, 'B': {Timestamp('2013-01-01 00:00:00'): -0.3929642405110494, Timestamp('2013-01-02 00:00:00'): 2.5595854453525138, Timestamp('2013-01-03 00:00:00'): -0.39913253988117486, Timestamp('2013-01-04 00:00:00'): 2.2200754619527454, Timestamp('2013-01-05 00:00:00'): -1.7239462864103288, Timestamp('2013-01-06 00:00:00'): 0.04766399169999334}, 'C': {Timestamp('2013-01-01 00:00:00'): -0.6437396503113162, Timestamp('2013-01-02 00:00:00'): 1.4869709465644791, Timestamp('2013-01-03 00:00:00'): 0.36026596920706394, Timestamp('2013-01-04 00:00:00'): 0.6834516433462398, Timestamp('2013-01-05 00:00:00'): 0.5731864257081474, Timestamp('2013-01-06 00:00:00'): 1.5332615907127938}, 'D': {Timestamp('2013-01-01 00:00:00'): -0.2828491128941791, Timestamp('2013-01-02 00:00:00'): -0.6952252149140142, Timestamp('2013-01-03 00:00:00'): 1.543201491151298, Timestamp('2013-01-04 00:00:00'): -0.03471207383607149, Timestamp('2013-01-05 00:00:00'): 1.3014488580319215, Timestamp('2013-01-06 00:00:00'): -0.9023361116914624}}\n",
      "{Timestamp('2013-01-01 00:00:00'): -0.23458410530329493, Timestamp('2013-01-02 00:00:00'): 0.23281308851106416, Timestamp('2013-01-03 00:00:00'): -0.16815357791658225, Timestamp('2013-01-04 00:00:00'): -0.34413541462962893, Timestamp('2013-01-05 00:00:00'): 0.2595748323900056, Timestamp('2013-01-06 00:00:00'): -0.9195326046535839}\n"
     ]
    }
   ],
   "source": [
    "dates_dict = dates_df.to_dict()\n",
    "print(dates_dict)\n",
    "print(dates_dict['A'])"
   ]
  },
  {
   "cell_type": "code",
   "execution_count": 38,
   "id": "bad7edc0-a858-4f6a-94b9-f55af844af29",
   "metadata": {},
   "outputs": [
    {
     "name": "stdout",
     "output_type": "stream",
     "text": [
      "[{'A': -0.23458410530329493, 'B': -0.3929642405110494, 'C': -0.6437396503113162, 'D': -0.2828491128941791}, {'A': 0.23281308851106416, 'B': 2.5595854453525138, 'C': 1.4869709465644791, 'D': -0.6952252149140142}, {'A': -0.16815357791658225, 'B': -0.39913253988117486, 'C': 0.36026596920706394, 'D': 1.543201491151298}, {'A': -0.34413541462962893, 'B': 2.2200754619527454, 'C': 0.6834516433462398, 'D': -0.03471207383607149}, {'A': 0.2595748323900056, 'B': -1.7239462864103288, 'C': 0.5731864257081474, 'D': 1.3014488580319215}, {'A': -0.9195326046535839, 'B': 0.04766399169999334, 'C': 1.5332615907127938, 'D': -0.9023361116914624}]\n"
     ]
    }
   ],
   "source": [
    "dates_dict = dates_df.to_dict(orient='records')\n",
    "print(dates_dict)"
   ]
  },
  {
   "cell_type": "code",
   "execution_count": 39,
   "id": "39934910-1422-4a35-9ccb-d07b1f7bc8cc",
   "metadata": {},
   "outputs": [
    {
     "name": "stdout",
     "output_type": "stream",
     "text": [
      "{Timestamp('2013-01-01 00:00:00'): {'A': -0.23458410530329493, 'B': -0.3929642405110494, 'C': -0.6437396503113162, 'D': -0.2828491128941791}, Timestamp('2013-01-02 00:00:00'): {'A': 0.23281308851106416, 'B': 2.5595854453525138, 'C': 1.4869709465644791, 'D': -0.6952252149140142}, Timestamp('2013-01-03 00:00:00'): {'A': -0.16815357791658225, 'B': -0.39913253988117486, 'C': 0.36026596920706394, 'D': 1.543201491151298}, Timestamp('2013-01-04 00:00:00'): {'A': -0.34413541462962893, 'B': 2.2200754619527454, 'C': 0.6834516433462398, 'D': -0.03471207383607149}, Timestamp('2013-01-05 00:00:00'): {'A': 0.2595748323900056, 'B': -1.7239462864103288, 'C': 0.5731864257081474, 'D': 1.3014488580319215}, Timestamp('2013-01-06 00:00:00'): {'A': -0.9195326046535839, 'B': 0.04766399169999334, 'C': 1.5332615907127938, 'D': -0.9023361116914624}}\n"
     ]
    }
   ],
   "source": [
    "dates_dict = dates_df.to_dict(orient='index')\n",
    "print(dates_dict)"
   ]
  },
  {
   "cell_type": "markdown",
   "id": "d9b0eedd-6559-4dfa-bf91-1f56ebbc6fbb",
   "metadata": {},
   "source": [
    "# First reason I prefer to use a dictionary over a dataframe\n",
    "\n",
    "You can reference the dictionary elements by subscripting them, which is the way I have always done it,\n",
    "without using .loc and .iloc, which are confusing because sometimes you don't need them.\n",
    "\n",
    "For example, you can add a new column like this:\n",
    "dates_df[\"E\"] = [\"one\", \"one\", \"two\", \"three\", \"four\", \"three\"], which does not care about indices only order\n",
    "I do this in a later section."
   ]
  },
  {
   "cell_type": "code",
   "execution_count": 46,
   "id": "5da5acb2-effd-40d3-b0ed-19c174982296",
   "metadata": {},
   "outputs": [
    {
     "name": "stdout",
     "output_type": "stream",
     "text": [
      "dates[0]: {'A': -0.23458410530329493, 'B': -0.3929642405110494, 'C': -0.6437396503113162, 'D': -0.2828491128941791}\n",
      "\n",
      "2013-01-05, B: -1.7239462864103288\n"
     ]
    }
   ],
   "source": [
    "print(f\"dates[0]: {dates_dict[dates[0]]}\\n\")\n",
    "#print(dates_dict['20130105']['B']) # exception key error\n",
    "#print(dates_dict['2013-01-05']['B']) # exception key error\n",
    "#print(dates_dict[Timestamp('20130105'),'B'])  # exception Timestamp not defined\n",
    "print(f\"2013-01-05, B: {dates_dict[datetime.fromisoformat('2013-01-05')]['B']}\")"
   ]
  },
  {
   "cell_type": "code",
   "execution_count": 47,
   "id": "77631a6b-b1f1-40d2-9369-00f0b4bfc6f3",
   "metadata": {},
   "outputs": [
    {
     "name": "stdout",
     "output_type": "stream",
     "text": [
      "                   A         B\n",
      "2013-01-01 -0.234584 -0.392964\n",
      "2013-01-02  0.232813  2.559585\n",
      "2013-01-03 -0.168154 -0.399133\n",
      "2013-01-04 -0.344135  2.220075\n",
      "2013-01-05  0.259575 -1.723946\n",
      "2013-01-06 -0.919533  0.047664\n"
     ]
    }
   ],
   "source": [
    "print(dates_df.loc[:, [\"A\", \"B\"]])"
   ]
  },
  {
   "cell_type": "code",
   "execution_count": 49,
   "id": "168c2bc4-5773-49d6-98e8-900369fc0f51",
   "metadata": {},
   "outputs": [
    {
     "name": "stdout",
     "output_type": "stream",
     "text": [
      "{Timestamp('2013-01-01 00:00:00'): {'A': -0.23458410530329493, 'B': -0.3929642405110494}, Timestamp('2013-01-02 00:00:00'): {'A': 0.23281308851106416, 'B': 2.5595854453525138}, Timestamp('2013-01-03 00:00:00'): {'A': -0.16815357791658225, 'B': -0.39913253988117486}, Timestamp('2013-01-04 00:00:00'): {'A': -0.34413541462962893, 'B': 2.2200754619527454}, Timestamp('2013-01-05 00:00:00'): {'A': 0.2595748323900056, 'B': -1.7239462864103288}, Timestamp('2013-01-06 00:00:00'): {'A': -0.9195326046535839, 'B': 0.04766399169999334}}\n"
     ]
    }
   ],
   "source": [
    "print({x: {'A': y['A'], 'B': y['B']} for x, y in dates_dict.items()})"
   ]
  },
  {
   "cell_type": "code",
   "execution_count": 50,
   "id": "b80b6e10-4a65-4f5e-80f0-2d5427898a6c",
   "metadata": {},
   "outputs": [
    {
     "data": {
      "text/html": [
       "<div>\n",
       "<style scoped>\n",
       "    .dataframe tbody tr th:only-of-type {\n",
       "        vertical-align: middle;\n",
       "    }\n",
       "\n",
       "    .dataframe tbody tr th {\n",
       "        vertical-align: top;\n",
       "    }\n",
       "\n",
       "    .dataframe thead th {\n",
       "        text-align: right;\n",
       "    }\n",
       "</style>\n",
       "<table border=\"1\" class=\"dataframe\">\n",
       "  <thead>\n",
       "    <tr style=\"text-align: right;\">\n",
       "      <th></th>\n",
       "      <th>A</th>\n",
       "      <th>B</th>\n",
       "    </tr>\n",
       "  </thead>\n",
       "  <tbody>\n",
       "    <tr>\n",
       "      <th>2013-01-02</th>\n",
       "      <td>0.232813</td>\n",
       "      <td>2.559585</td>\n",
       "    </tr>\n",
       "    <tr>\n",
       "      <th>2013-01-03</th>\n",
       "      <td>-0.168154</td>\n",
       "      <td>-0.399133</td>\n",
       "    </tr>\n",
       "    <tr>\n",
       "      <th>2013-01-04</th>\n",
       "      <td>-0.344135</td>\n",
       "      <td>2.220075</td>\n",
       "    </tr>\n",
       "  </tbody>\n",
       "</table>\n",
       "</div>"
      ],
      "text/plain": [
       "                   A         B\n",
       "2013-01-02  0.232813  2.559585\n",
       "2013-01-03 -0.168154 -0.399133\n",
       "2013-01-04 -0.344135  2.220075"
      ]
     },
     "execution_count": 50,
     "metadata": {},
     "output_type": "execute_result"
    }
   ],
   "source": [
    "dates_df.loc[\"20130102\":\"20130104\", [\"A\", \"B\"]]"
   ]
  },
  {
   "cell_type": "markdown",
   "id": "711faffa-a05b-424e-b193-8dcf06a9a933",
   "metadata": {},
   "source": [
    "# A reason using a dictionary is intuitively appealing\n",
    "\n",
    "The advantage I see here to using a dictionary is that the inclusiveness of the slice is made obvious (<=, >=).\n",
    "Slices in pandas are inclusive. Slices in Python are not inclusive of the end value."
   ]
  },
  {
   "cell_type": "code",
   "execution_count": 51,
   "id": "34736dbb-c0f9-46e1-81d0-640d3148622a",
   "metadata": {},
   "outputs": [
    {
     "name": "stdout",
     "output_type": "stream",
     "text": [
      "{Timestamp('2013-01-02 00:00:00'): {'A': 0.23281308851106416, 'B': 2.5595854453525138}, Timestamp('2013-01-03 00:00:00'): {'A': -0.16815357791658225, 'B': -0.39913253988117486}, Timestamp('2013-01-04 00:00:00'): {'A': -0.34413541462962893, 'B': 2.2200754619527454}}\n"
     ]
    }
   ],
   "source": [
    "print({x: {'A': y['A'], 'B': y['B']} for x,y in dates_dict.items() \n",
    "       if x >= datetime.fromisoformat(\"2013-01-02\") \n",
    "       and x <= datetime.fromisoformat(\"2013-01-04\")})"
   ]
  },
  {
   "cell_type": "markdown",
   "id": "d7087dc8-8a3b-4cd4-b4fb-376aebf705f6",
   "metadata": {},
   "source": [
    "# Pandas is faster for creating views of a dataframe, then Python is for views of a dictionay\n",
    "\n",
    "The above test shows that for a 287,113 item dataframe/dictionary it is faster to use pandas, but the dictionary\n",
    "still finishes in 0.05 of a second."
   ]
  },
  {
   "cell_type": "code",
   "execution_count": 52,
   "id": "11e35967-3404-40de-8e00-6dd29db9d1a9",
   "metadata": {},
   "outputs": [
    {
     "name": "stdout",
     "output_type": "stream",
     "text": [
      "{'article': \"By . Associated Press . PUBLISHED: . 14:11 EST, 25 October 2013 . | . UPDATED: . 15:36 EST, 25 October 2013 . The bishop of the Fargo Catholic Diocese in North Dakota has exposed potentially hundreds of church members in Fargo, Grand Forks and Jamestown to the hepatitis A virus in late September and early October. The state Health Department has issued an advisory of exposure for anyone who attended five churches and took communion. Bishop John Folda (pictured) of the Fargo Catholic Diocese in North Dakota has exposed potentially hundreds of church members in Fargo, Grand Forks and Jamestown to the hepatitis A . State Immunization Program Manager Molly Howell says the risk is low, but officials feel it's important to alert people to the possible exposure. The diocese announced on Monday that Bishop John Folda is taking time off after being diagnosed with hepatitis A. The diocese says he contracted the infection through contaminated food while attending a conference for newly ordained bishops in Italy last month. Symptoms of hepatitis A include fever, tiredness, loss of appetite, nausea and abdominal discomfort. Fargo Catholic Diocese in North Dakota (pictured) is where the bishop is located .\", 'highlights': 'Bishop John Folda, of North Dakota, is taking time off after being diagnosed .\\nHe contracted the infection through contaminated food in Italy .\\nChurch members in Fargo, Grand Forks and Jamestown could have been exposed .'}\n"
     ]
    }
   ],
   "source": [
    "cnn_dm_dict = cnn_dm_df.to_dict(orient='index')\n",
    "print(cnn_dm_dict['0001d1afc246a7964130f43ae940af6bc6c57f01'])"
   ]
  },
  {
   "cell_type": "code",
   "execution_count": 53,
   "id": "cddb0ead-4834-416e-bfdf-8c86d41b19ca",
   "metadata": {},
   "outputs": [],
   "source": [
    "import time"
   ]
  },
  {
   "cell_type": "code",
   "execution_count": 54,
   "id": "90472bd4-023a-4d8d-9d2b-6a6d77507780",
   "metadata": {},
   "outputs": [
    {
     "name": "stdout",
     "output_type": "stream",
     "text": [
      "time 0.0002774170002339815\n"
     ]
    }
   ],
   "source": [
    "start = time.perf_counter()\n",
    "cnndm_high_df = cnn_dm_df.loc[:, 'highlights']\n",
    "end = time.perf_counter()\n",
    "print(f\"time {end - start}\")"
   ]
  },
  {
   "cell_type": "code",
   "execution_count": 55,
   "id": "a540d11a-278b-4b05-86da-52ebf5548ed9",
   "metadata": {},
   "outputs": [
    {
     "name": "stdout",
     "output_type": "stream",
     "text": [
      "time 0.042844804000196746\n"
     ]
    }
   ],
   "source": [
    "start = time.perf_counter()\n",
    "cnndm_high_dict = {x: y['highlights'] for x, y in cnn_dm_dict.items()}\n",
    "end = time.perf_counter()\n",
    "print(f\"time {end - start}\")"
   ]
  },
  {
   "cell_type": "markdown",
   "id": "a01d25af-96c3-4a9f-a595-d925a76ab2f4",
   "metadata": {},
   "source": [
    "# Adding rows to a dataframe is where things are inefficient. \n",
    "\n",
    "So lets compare.\n",
    "First getting the rows from the dictionary is much slower unless we leverage the fact that we chose them based on\n",
    "their position is the list.\n",
    "Either way Pandas is faster\n",
    "Adding the elements back to the dictionary is an order of magnitude faster than adding to the dataframe.\n",
    "\n",
    "Beacuse I want to think about a pandas dataframe as a database, I want to be able to add and subtract elements (rows),\n",
    "without creating new dataframes and concating them."
   ]
  },
  {
   "cell_type": "code",
   "execution_count": 60,
   "id": "f81e0e1f-a102-43a6-b402-64d5599bda16",
   "metadata": {},
   "outputs": [
    {
     "name": "stdout",
     "output_type": "stream",
     "text": [
      "5000 keys in 0.004360094999810826 seconds\n"
     ]
    }
   ],
   "source": [
    "# find rows to add\n",
    "\n",
    "start = time.perf_counter()\n",
    "repeat_keys = list(cnn_dm_dict.keys())[100000:105000]\n",
    "end = time.perf_counter()\n",
    "\n",
    "print(f\"{len(repeat_keys)} keys in {end - start} seconds\")"
   ]
  },
  {
   "cell_type": "code",
   "execution_count": 61,
   "id": "08f19a4a-9274-4597-b75a-fed8ea7a4896",
   "metadata": {},
   "outputs": [
    {
     "name": "stdout",
     "output_type": "stream",
     "text": [
      "5000 in 8.292842819999805 seconds\n"
     ]
    }
   ],
   "source": [
    "# Select the rows from a dictionary, slow as expected\n",
    "\n",
    "start = time.perf_counter()\n",
    "new_lines = {x: y for x, y in cnn_dm_dict.items() if x in repeat_keys}\n",
    "end = time.perf_counter()\n",
    "\n",
    "print(f\"{len(new_lines)} in {end - start} seconds\")"
   ]
  },
  {
   "cell_type": "code",
   "execution_count": 67,
   "id": "8bc3b8d0-f592-49f1-97b8-32b7c487ebd6",
   "metadata": {},
   "outputs": [
    {
     "name": "stdout",
     "output_type": "stream",
     "text": [
      "5000 in 0.031192838000151824 seconds\n"
     ]
    }
   ],
   "source": [
    "# Select the rows from a dictionary, try to speed it up\n",
    "\n",
    "start = time.perf_counter()\n",
    "new_lines = {x: cnn_dm_dict[x] for ind, x in enumerate(cnn_dm_dict) if ind in range(100000, 105000)}\n",
    "end = time.perf_counter()\n",
    "\n",
    "print(f\"{len(new_lines)} in {end - start} seconds\")"
   ]
  },
  {
   "cell_type": "code",
   "execution_count": 62,
   "id": "372505cd-000b-465e-89a4-a58699b8b595",
   "metadata": {},
   "outputs": [
    {
     "name": "stdout",
     "output_type": "stream",
     "text": [
      "5000 in 0.004171418000169069 seconds\n"
     ]
    }
   ],
   "source": [
    "# Select the rows from the dataframe, much faster\n",
    "\n",
    "start = time.perf_counter()\n",
    "new_df = cnn_dm_df.loc[repeat_keys]\n",
    "end = time.perf_counter()\n",
    "\n",
    "print(f\"{len(new_df)} in {end - start} seconds\")"
   ]
  },
  {
   "cell_type": "code",
   "execution_count": 63,
   "id": "4745ff3b-5da3-4ad1-aae1-9c32963a0c5e",
   "metadata": {},
   "outputs": [
    {
     "name": "stdout",
     "output_type": "stream",
     "text": [
      "287113 in 0.0007020839998403972 seconds\n"
     ]
    }
   ],
   "source": [
    "# Update the dictionary with the repeated rows, the length should not change\n",
    "\n",
    "start = time.perf_counter()\n",
    "cnn_dm_dict.update(new_lines)\n",
    "end = time.perf_counter()\n",
    "\n",
    "print(f\"{len(cnn_dm_dict)} in {end - start} seconds\")"
   ]
  },
  {
   "cell_type": "code",
   "execution_count": 64,
   "id": "cdcbfdee-1ce5-40fb-bf03-f9ac0f08521b",
   "metadata": {},
   "outputs": [
    {
     "name": "stdout",
     "output_type": "stream",
     "text": [
      "5000 in 0.00880983400020341 seconds\n"
     ]
    }
   ],
   "source": [
    "# Update the dataframe with the repeated rows, the length should not change\n",
    "\n",
    "start = time.perf_counter()\n",
    "cnn_dm_df = pd.concat([cnn_dm_df, new_df])\n",
    "end = time.perf_counter()\n",
    "\n",
    "print(f\"{len(new_lines)} in {end - start} seconds\")"
   ]
  },
  {
   "cell_type": "markdown",
   "id": "3a376878-0b33-4680-a1cb-cac748597c7d",
   "metadata": {},
   "source": [
    "# Second thing that makes pandas unintuitive to me\n",
    "\n",
    "A way that I run into problems with pandas dataframes is if I forget to pass an index to the read.\n",
    "Then I build a new df using a dictionary because I was looping through and didn't want to concat every time.\n",
    "I turn the dictionary into a dataframe.\n",
    "Then concat.\n",
    "Pandas does not warn me that I have just made a mess!\n",
    "It does not overwrite the repeated ids, like before. It silently sets all the new ids to 'Nan'."
   ]
  },
  {
   "cell_type": "code",
   "execution_count": 68,
   "id": "43ed5c10-7afc-4dc1-9e2f-583aac7c763a",
   "metadata": {},
   "outputs": [
    {
     "name": "stdout",
     "output_type": "stream",
     "text": [
      "                                                                                    article  \\\n",
      "0cd96cc680ac812f9f5050cda28ca03ad5cd496b  By . Rachel Reilly . PUBLISHED: . 09:20 EST, 1...   \n",
      "0cd9eac820f2267622743768dd95da24cd0d6252  By . Ruth Styles . PUBLISHED: . 06:13 EST, 6 S...   \n",
      "\n",
      "                                                                                 highlights  \n",
      "0cd96cc680ac812f9f5050cda28ca03ad5cd496b  Sex clinics across the UK are stretched becaus...  \n",
      "0cd9eac820f2267622743768dd95da24cd0d6252  The striking images are the work of Chicago ph...  \n"
     ]
    }
   ],
   "source": [
    "new_df = pd.DataFrame.from_dict(new_lines, orient='index')\n",
    "print(new_df.head(2))"
   ]
  },
  {
   "cell_type": "code",
   "execution_count": 69,
   "id": "b37f2c2b-d076-4e22-98ab-281ec06d3b4e",
   "metadata": {},
   "outputs": [],
   "source": [
    "new_cnndm_df = pd.concat([cnn_dm_noi_df, new_df])"
   ]
  },
  {
   "cell_type": "code",
   "execution_count": 70,
   "id": "54581d34-6626-405b-85c0-b53cd0d0167a",
   "metadata": {},
   "outputs": [
    {
     "data": {
      "text/plain": [
       "292113"
      ]
     },
     "execution_count": 70,
     "metadata": {},
     "output_type": "execute_result"
    }
   ],
   "source": [
    "len(new_cnndm_df)"
   ]
  },
  {
   "cell_type": "code",
   "execution_count": 71,
   "id": "2b6765b4-c783-43d5-987e-b2305584facd",
   "metadata": {},
   "outputs": [
    {
     "data": {
      "text/plain": [
       "Index([                                         0,\n",
       "                                                1,\n",
       "                                                2,\n",
       "                                                3,\n",
       "                                                4,\n",
       "                                                5,\n",
       "                                                6,\n",
       "                                                7,\n",
       "                                                8,\n",
       "                                                9,\n",
       "       ...\n",
       "       '136eb3eaaff06322cf6b994c17a4e3a380b75ef5',\n",
       "       '136f34a07047a1ed1970807f4a251e66263e24a5',\n",
       "       '136fef74a8cf65c82a0b8613ca348f351c30afc1',\n",
       "       '13703249c62d31050fd7eb50da7a9bc49f417c1b',\n",
       "       '13715153f943c6127bb98a7cc77703e4093f3253',\n",
       "       '1371eda4492599cb676a6568b6e6d93265e81231',\n",
       "       '137203cf30e5366dba9a979f2fbf09f4fb8fd8bd',\n",
       "       '1372824d0af2263538ebabe84a2f2087ab82bf26',\n",
       "       '1372998eb619434e3e405ed70e33e62802bbe297',\n",
       "       '1372ffa89d5a6726926e62ce8005beda9619d22f'],\n",
       "      dtype='object', length=292113)"
      ]
     },
     "execution_count": 71,
     "metadata": {},
     "output_type": "execute_result"
    }
   ],
   "source": [
    "new_cnndm_df.index"
   ]
  },
  {
   "cell_type": "code",
   "execution_count": 72,
   "id": "de1fd16f-dbb2-4b13-a4eb-a6f9153f5ac1",
   "metadata": {},
   "outputs": [
    {
     "data": {
      "text/html": [
       "<div>\n",
       "<style scoped>\n",
       "    .dataframe tbody tr th:only-of-type {\n",
       "        vertical-align: middle;\n",
       "    }\n",
       "\n",
       "    .dataframe tbody tr th {\n",
       "        vertical-align: top;\n",
       "    }\n",
       "\n",
       "    .dataframe thead th {\n",
       "        text-align: right;\n",
       "    }\n",
       "</style>\n",
       "<table border=\"1\" class=\"dataframe\">\n",
       "  <thead>\n",
       "    <tr style=\"text-align: right;\">\n",
       "      <th></th>\n",
       "      <th>id</th>\n",
       "      <th>article</th>\n",
       "      <th>highlights</th>\n",
       "    </tr>\n",
       "  </thead>\n",
       "  <tbody>\n",
       "    <tr>\n",
       "      <th>0</th>\n",
       "      <td>0001d1afc246a7964130f43ae940af6bc6c57f01</td>\n",
       "      <td>By . Associated Press . PUBLISHED: . 14:11 EST...</td>\n",
       "      <td>Bishop John Folda, of North Dakota, is taking ...</td>\n",
       "    </tr>\n",
       "    <tr>\n",
       "      <th>136eb3eaaff06322cf6b994c17a4e3a380b75ef5</th>\n",
       "      <td>NaN</td>\n",
       "      <td>By . Kerry Mcdermott . PUBLISHED: . 07:57 EST,...</td>\n",
       "      <td>Student Tom Henry Waller burst into store with...</td>\n",
       "    </tr>\n",
       "  </tbody>\n",
       "</table>\n",
       "</div>"
      ],
      "text/plain": [
       "                                                                                id  \\\n",
       "0                                         0001d1afc246a7964130f43ae940af6bc6c57f01   \n",
       "136eb3eaaff06322cf6b994c17a4e3a380b75ef5                                       NaN   \n",
       "\n",
       "                                                                                    article  \\\n",
       "0                                         By . Associated Press . PUBLISHED: . 14:11 EST...   \n",
       "136eb3eaaff06322cf6b994c17a4e3a380b75ef5  By . Kerry Mcdermott . PUBLISHED: . 07:57 EST,...   \n",
       "\n",
       "                                                                                 highlights  \n",
       "0                                         Bishop John Folda, of North Dakota, is taking ...  \n",
       "136eb3eaaff06322cf6b994c17a4e3a380b75ef5  Student Tom Henry Waller burst into store with...  "
      ]
     },
     "execution_count": 72,
     "metadata": {},
     "output_type": "execute_result"
    }
   ],
   "source": [
    "new_cnndm_df.loc[[0,'136eb3eaaff06322cf6b994c17a4e3a380b75ef5']]"
   ]
  },
  {
   "cell_type": "markdown",
   "id": "051241ab-7039-4a7a-9c06-1f8e1a45703a",
   "metadata": {},
   "source": [
    "# Third reason I find dictionaries more intuitively appealing is filtering\n",
    "\n",
    "In the filter below the second \"dates_df\" is required, which I get is because it could be another dataframes \"E\" column,\n",
    "but I find it difficult to remember to repeat it.\n",
    "\n",
    "Using a dictionary, you can still do the implicit ordering (since python 3.10 keeps dictionaries in order)\n",
    "and I find the selecting more appealing, even though the name is technically repeated by the y in y['E']."
   ]
  },
  {
   "cell_type": "code",
   "execution_count": 73,
   "id": "fff3b5cf-f012-452c-a7be-7b7ce8197b13",
   "metadata": {},
   "outputs": [
    {
     "data": {
      "text/html": [
       "<div>\n",
       "<style scoped>\n",
       "    .dataframe tbody tr th:only-of-type {\n",
       "        vertical-align: middle;\n",
       "    }\n",
       "\n",
       "    .dataframe tbody tr th {\n",
       "        vertical-align: top;\n",
       "    }\n",
       "\n",
       "    .dataframe thead th {\n",
       "        text-align: right;\n",
       "    }\n",
       "</style>\n",
       "<table border=\"1\" class=\"dataframe\">\n",
       "  <thead>\n",
       "    <tr style=\"text-align: right;\">\n",
       "      <th></th>\n",
       "      <th>A</th>\n",
       "      <th>B</th>\n",
       "      <th>C</th>\n",
       "      <th>D</th>\n",
       "      <th>E</th>\n",
       "    </tr>\n",
       "  </thead>\n",
       "  <tbody>\n",
       "    <tr>\n",
       "      <th>2013-01-03</th>\n",
       "      <td>-0.168154</td>\n",
       "      <td>-0.399133</td>\n",
       "      <td>0.360266</td>\n",
       "      <td>1.543201</td>\n",
       "      <td>two</td>\n",
       "    </tr>\n",
       "    <tr>\n",
       "      <th>2013-01-05</th>\n",
       "      <td>0.259575</td>\n",
       "      <td>-1.723946</td>\n",
       "      <td>0.573186</td>\n",
       "      <td>1.301449</td>\n",
       "      <td>four</td>\n",
       "    </tr>\n",
       "  </tbody>\n",
       "</table>\n",
       "</div>"
      ],
      "text/plain": [
       "                   A         B         C         D     E\n",
       "2013-01-03 -0.168154 -0.399133  0.360266  1.543201   two\n",
       "2013-01-05  0.259575 -1.723946  0.573186  1.301449  four"
      ]
     },
     "execution_count": 73,
     "metadata": {},
     "output_type": "execute_result"
    }
   ],
   "source": [
    "# adding column to dates_df as described in First reason\n",
    "dates_df[\"E\"] = [\"one\", \"one\", \"two\", \"three\", \"four\", \"three\"]\n",
    "dates_df[dates_df[\"E\"].isin([\"two\", \"four\"])]"
   ]
  },
  {
   "cell_type": "code",
   "execution_count": 74,
   "id": "1cb13610-36bf-4fa2-916b-0184de919d73",
   "metadata": {},
   "outputs": [
    {
     "name": "stdout",
     "output_type": "stream",
     "text": [
      "{Timestamp('2013-01-03 00:00:00'): {'A': -0.16815357791658225, 'B': -0.39913253988117486, 'C': 0.36026596920706394, 'D': 1.543201491151298, 'E': 'two'}, Timestamp('2013-01-05 00:00:00'): {'A': 0.2595748323900056, 'B': -1.7239462864103288, 'C': 0.5731864257081474, 'D': 1.3014488580319215, 'E': 'four'}}\n"
     ]
    }
   ],
   "source": [
    "add_no = [\"one\", \"one\", \"two\", \"three\", \"four\", \"three\"]\n",
    "\n",
    "for ind, elt in enumerate(dates_dict.values()):\n",
    "    elt['E'] = add_no[ind]\n",
    "    \n",
    "print({x: y for x, y in dates_dict.items() if y['E'] in [\"two\", \"four\"]})"
   ]
  },
  {
   "cell_type": "markdown",
   "id": "e1ba8cd7-3ac1-4d4f-b07d-ab0412a04fd0",
   "metadata": {},
   "source": [
    "# I don't know how I feel about the pandas syntax:\n",
    "df[df > 0]\n",
    "if your db is all numbers."
   ]
  },
  {
   "cell_type": "code",
   "execution_count": 75,
   "id": "ffa62c9b-c1c1-464f-86ed-08da536e095c",
   "metadata": {},
   "outputs": [
    {
     "data": {
      "text/html": [
       "<div>\n",
       "<style scoped>\n",
       "    .dataframe tbody tr th:only-of-type {\n",
       "        vertical-align: middle;\n",
       "    }\n",
       "\n",
       "    .dataframe tbody tr th {\n",
       "        vertical-align: top;\n",
       "    }\n",
       "\n",
       "    .dataframe thead th {\n",
       "        text-align: right;\n",
       "    }\n",
       "</style>\n",
       "<table border=\"1\" class=\"dataframe\">\n",
       "  <thead>\n",
       "    <tr style=\"text-align: right;\">\n",
       "      <th></th>\n",
       "      <th>A</th>\n",
       "      <th>B</th>\n",
       "      <th>C</th>\n",
       "      <th>D</th>\n",
       "    </tr>\n",
       "  </thead>\n",
       "  <tbody>\n",
       "    <tr>\n",
       "      <th>2013-01-01</th>\n",
       "      <td>NaN</td>\n",
       "      <td>NaN</td>\n",
       "      <td>NaN</td>\n",
       "      <td>NaN</td>\n",
       "    </tr>\n",
       "    <tr>\n",
       "      <th>2013-01-02</th>\n",
       "      <td>0.232813</td>\n",
       "      <td>2.559585</td>\n",
       "      <td>1.486971</td>\n",
       "      <td>NaN</td>\n",
       "    </tr>\n",
       "    <tr>\n",
       "      <th>2013-01-03</th>\n",
       "      <td>NaN</td>\n",
       "      <td>NaN</td>\n",
       "      <td>0.360266</td>\n",
       "      <td>1.543201</td>\n",
       "    </tr>\n",
       "    <tr>\n",
       "      <th>2013-01-04</th>\n",
       "      <td>NaN</td>\n",
       "      <td>2.220075</td>\n",
       "      <td>0.683452</td>\n",
       "      <td>NaN</td>\n",
       "    </tr>\n",
       "    <tr>\n",
       "      <th>2013-01-05</th>\n",
       "      <td>0.259575</td>\n",
       "      <td>NaN</td>\n",
       "      <td>0.573186</td>\n",
       "      <td>1.301449</td>\n",
       "    </tr>\n",
       "    <tr>\n",
       "      <th>2013-01-06</th>\n",
       "      <td>NaN</td>\n",
       "      <td>0.047664</td>\n",
       "      <td>1.533262</td>\n",
       "      <td>NaN</td>\n",
       "    </tr>\n",
       "  </tbody>\n",
       "</table>\n",
       "</div>"
      ],
      "text/plain": [
       "                   A         B         C         D\n",
       "2013-01-01       NaN       NaN       NaN       NaN\n",
       "2013-01-02  0.232813  2.559585  1.486971       NaN\n",
       "2013-01-03       NaN       NaN  0.360266  1.543201\n",
       "2013-01-04       NaN  2.220075  0.683452       NaN\n",
       "2013-01-05  0.259575       NaN  0.573186  1.301449\n",
       "2013-01-06       NaN  0.047664  1.533262       NaN"
      ]
     },
     "execution_count": 75,
     "metadata": {},
     "output_type": "execute_result"
    }
   ],
   "source": [
    "all_nums_df = dates_df[list(\"ABCD\")]\n",
    "all_nums_df[all_nums_df > 0]"
   ]
  },
  {
   "cell_type": "markdown",
   "id": "76c4ede1-b5ea-4bfc-a782-77c40e9c6cf2",
   "metadata": {},
   "source": [
    "# Relatively complicated Pandas example\n",
    "\n",
    "This example was devised by the Google search LLM."
   ]
  },
  {
   "cell_type": "code",
   "execution_count": 76,
   "id": "f0b9002d-955f-46dd-a761-f9820f269a35",
   "metadata": {},
   "outputs": [],
   "source": [
    "# Create sample sales data\n",
    "sales_data = {\n",
    "    'ProductID': ['A1', 'A2', 'B1', 'B2', 'C1', 'C2', 'A3', 'B3'],\n",
    "    'Category': ['Electronics', 'Electronics', 'Home Goods', 'Home Goods', 'Apparel', 'Apparel', 'Electronics', 'Home Goods'],\n",
    "    'Sales': [100, 150, 80, 120, 50, 75, 200, 90]\n",
    "}\n",
    "\n",
    "df_sales = pd.DataFrame(sales_data)"
   ]
  },
  {
   "cell_type": "code",
   "execution_count": 77,
   "id": "88a2204f-d998-4491-9c07-36f969af7776",
   "metadata": {},
   "outputs": [],
   "source": [
    "# Create sample product info data\n",
    "product_info = {\n",
    "    'ProductID': ['A1', 'A2', 'B1', 'B2', 'C1', 'C2', 'A3', 'B3'],\n",
    "    'Price': [250, 300, 100, 180, 60, 90, 400, 110],\n",
    "    'Volume_Liters': [1.5, 2.0, 0.8, 1.2, 0.5, 0.7, 2.5, 0.9]\n",
    "}\n",
    "\n",
    "df_products = pd.DataFrame(product_info)"
   ]
  },
  {
   "cell_type": "code",
   "execution_count": 78,
   "id": "62fe77c6-dfff-41d0-8452-fea2079dda16",
   "metadata": {},
   "outputs": [],
   "source": [
    "# Define a custom function for filtering and calculation\n",
    "def process_products(df):\n",
    "    # Filter for products with price > 100 and volume > 1 liter\n",
    "    filtered_df = df[ (df['Price'] > 100) & (df['Volume_Liters'] > 1) ]\n",
    "    return filtered_df\n"
   ]
  },
  {
   "cell_type": "code",
   "execution_count": 79,
   "id": "9b7031ee-300c-4eb9-93ae-8b2125a70a53",
   "metadata": {},
   "outputs": [
    {
     "name": "stdout",
     "output_type": "stream",
     "text": [
      "      Category  Average_Filtered_Sales\n",
      "0  Electronics                   150.0\n",
      "1   Home Goods                   120.0\n"
     ]
    }
   ],
   "source": [
    "# Complex Pandas operation using method chaining and custom function\n",
    "result_df = (\n",
    "    df_sales\n",
    "    .merge(df_products, on='ProductID', how='left')  # Merge sales with product info\n",
    "    .pipe(process_products)  # Apply custom filtering function\n",
    "    .groupby('Category')['Sales']  # Group by category\n",
    "    .mean()  # Calculate mean sales for filtered products\n",
    "    .reset_index()  # Convert Series back to DataFrame\n",
    "    .rename(columns={'Sales': 'Average_Filtered_Sales'}) # Rename column for clarity\n",
    ")\n",
    "\n",
    "print(result_df)"
   ]
  },
  {
   "cell_type": "markdown",
   "id": "601a58f7-2b1d-463a-9a68-c3276f7616a1",
   "metadata": {},
   "source": [
    "# Implementing the same example using dictionaries\n",
    "\n",
    "I convert the Pandas example into a dictionary example.\n",
    "There is no point in timing this toy example.\n",
    "I think the steps are much clearer using the dictionaries.\n",
    "First I straight replicate, then I add a second mean calculation just for fun."
   ]
  },
  {
   "cell_type": "code",
   "execution_count": 100,
   "id": "86259c2c-b735-4c56-a84e-b176d2394341",
   "metadata": {},
   "outputs": [],
   "source": [
    "# Get the ids of the sales we are interested in\n",
    "ids = [x for ind, x in enumerate(product_info['ProductID']) if product_info['Price'][ind] > 100 \n",
    "       and product_info['Volume_Liters'][ind] > 1]\n"
   ]
  },
  {
   "cell_type": "code",
   "execution_count": 101,
   "id": "82faf2c7-4469-4b63-b2b9-7ccd3d8c1f6a",
   "metadata": {},
   "outputs": [],
   "source": [
    "# set up a dictionary for the categories found\n",
    "cat_sales = {x: [] for x in list(set(sales_data['Category']))}\n",
    "# alternatively sales_data['Category'] I think set() is optimized.\n",
    "\n",
    "for sale_id in ids:\n",
    "    s_ind = sales_data['ProductID'].index(sale_id)\n",
    "    cat_sales[sales_data['Category'][s_ind]].append(sales_data['Sales'][s_ind])\n"
   ]
  },
  {
   "cell_type": "code",
   "execution_count": 103,
   "id": "58d15879-e83c-4239-9ece-286c4e8efb70",
   "metadata": {},
   "outputs": [
    {
     "name": "stdout",
     "output_type": "stream",
     "text": [
      "Category\tAverage Filtered Sales\n",
      "Home Goods\t\t120.0\n",
      "Electronics\t\t150.0\n"
     ]
    }
   ],
   "source": [
    "# Print it out all pretty\n",
    "print('Category\\tAverage Filtered Sales')\n",
    "for x, s in cat_sales.items():\n",
    "    if not s:\n",
    "        continue\n",
    "    print(f\"{x}\\t\\t{sum(s)/len(s)}\")"
   ]
  },
  {
   "cell_type": "code",
   "execution_count": 104,
   "id": "d791efbd-55b4-41bc-83d5-b0574148fd34",
   "metadata": {},
   "outputs": [],
   "source": [
    "# Get the ids of the sales we are interested in\n",
    "ids = [(x, ind) for ind, x in enumerate(product_info['ProductID']) if product_info['Price'][ind] > 100 \n",
    "       and product_info['Volume_Liters'][ind] > 1]\n"
   ]
  },
  {
   "cell_type": "code",
   "execution_count": 105,
   "id": "bffd677c-c95b-482a-bc18-d15dcd33ea07",
   "metadata": {},
   "outputs": [],
   "source": [
    "# set up a dictionary for the categories found\n",
    "cat_sales = {x: [[], []] for x in list(set(sales_data['Category']))}\n",
    "# alternatively sales_data['Category'] I think set() is optimized.\n",
    "\n",
    "for (sale_id, p_ind) in ids:\n",
    "    s_ind = sales_data['ProductID'].index(sale_id)\n",
    "    cat_sales[sales_data['Category'][s_ind]][0].append(sales_data['Sales'][s_ind])\n",
    "    # added a second mean calculation because I can\n",
    "    cat_sales[sales_data['Category'][s_ind]][1].append(product_info['Price'][p_ind])\n"
   ]
  },
  {
   "cell_type": "code",
   "execution_count": 106,
   "id": "eda66e43-80b8-4945-b7a6-f41dcd016666",
   "metadata": {},
   "outputs": [
    {
     "name": "stdout",
     "output_type": "stream",
     "text": [
      "Category\tAverage Filtered Sales\tAverage Filtered Price\n",
      "Home Goods\t\t120.0\t\t\t180.0\n",
      "Electronics\t\t150.0\t\t\t316.6666666666667\n"
     ]
    }
   ],
   "source": [
    "# Print it out all pretty\n",
    "print('Category\\tAverage Filtered Sales\\tAverage Filtered Price')\n",
    "for x, [s, p] in cat_sales.items():\n",
    "    if not (s and p):\n",
    "        continue\n",
    "    print(f\"{x}\\t\\t{sum(s)/len(s)}\\t\\t\\t{sum(p)/len(p)}\")"
   ]
  },
  {
   "cell_type": "code",
   "execution_count": null,
   "id": "c42719a9-22a6-4659-a969-aab7e9079b02",
   "metadata": {},
   "outputs": [],
   "source": []
  }
 ],
 "metadata": {
  "kernelspec": {
   "display_name": "Python 3 (ipykernel)",
   "language": "python",
   "name": "python3"
  },
  "language_info": {
   "codemirror_mode": {
    "name": "ipython",
    "version": 3
   },
   "file_extension": ".py",
   "mimetype": "text/x-python",
   "name": "python",
   "nbconvert_exporter": "python",
   "pygments_lexer": "ipython3",
   "version": "3.10.12"
  }
 },
 "nbformat": 4,
 "nbformat_minor": 5
}
